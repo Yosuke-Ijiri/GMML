{
 "cells": [
  {
   "cell_type": "markdown",
   "metadata": {},
   "source": [
    "<img src=\"./images/logo-ensae.jpg\" width = 40%><img src=\"./images/logo-ipparis.jpg\" width = 30%>"
   ]
  },
  {
   "cell_type": "markdown",
   "metadata": {},
   "source": [
    "**\"Geometric Methods in Machine Learning\", S2 2018-19** \n",
    "# *Studying Time Series using Dynamic Time Warping*  \n",
    "\n",
    "**Yosuke IJIRI**, *Mastère Spécialisé Data Science, ENSAE ParisTech*  "
   ]
  },
  {
   "cell_type": "markdown",
   "metadata": {},
   "source": [
    "## Overview"
   ]
  },
  {
   "cell_type": "code",
   "execution_count": 654,
   "metadata": {
    "scrolled": true
   },
   "outputs": [
    {
     "data": {
      "text/html": [
       "<div id=\"my_id_menu_nb\">run previous cell, wait for 2 seconds</div>\n",
       "<script>\n",
       "function repeat_indent_string(n){\n",
       "    var a = \"\" ;\n",
       "    for ( ; n > 0 ; --n)\n",
       "        a += \"    \";\n",
       "    return a;\n",
       "}\n",
       "// look up into all sections and builds an automated menu //\n",
       "var update_menu_string = function(begin, lfirst, llast, sformat, send, keep_item, begin_format, end_format) {\n",
       "    var anchors = document.getElementsByClassName(\"section\");\n",
       "    if (anchors.length == 0) {\n",
       "        anchors = document.getElementsByClassName(\"text_cell_render rendered_html\");\n",
       "    }\n",
       "    var i,t;\n",
       "    var text_menu = begin;\n",
       "    var text_memo = \"<pre>\\nlength:\" + anchors.length + \"\\n\";\n",
       "    var ind = \"\";\n",
       "    var memo_level = 1;\n",
       "    var href;\n",
       "    var tags = [];\n",
       "    var main_item = 0;\n",
       "    var format_open = 0;\n",
       "    for (i = 0; i <= llast; i++)\n",
       "        tags.push(\"h\" + i);\n",
       "\n",
       "    for (i = 0; i < anchors.length; i++) {\n",
       "        text_memo += \"**\" + anchors[i].id + \"--\\n\";\n",
       "\n",
       "        var child = null;\n",
       "        for(t = 0; t < tags.length; t++) {\n",
       "            var r = anchors[i].getElementsByTagName(tags[t]);\n",
       "            if (r.length > 0) {\n",
       "child = r[0];\n",
       "break;\n",
       "            }\n",
       "        }\n",
       "        if (child == null) {\n",
       "            text_memo += \"null\\n\";\n",
       "            continue;\n",
       "        }\n",
       "        if (anchors[i].hasAttribute(\"id\")) {\n",
       "            // when converted in RST\n",
       "            href = anchors[i].id;\n",
       "            text_memo += \"#1-\" + href;\n",
       "            // passer à child suivant (le chercher)\n",
       "        }\n",
       "        else if (child.hasAttribute(\"id\")) {\n",
       "            // in a notebook\n",
       "            href = child.id;\n",
       "            text_memo += \"#2-\" + href;\n",
       "        }\n",
       "        else {\n",
       "            text_memo += \"#3-\" + \"*\" + \"\\n\";\n",
       "            continue;\n",
       "        }\n",
       "        var title = child.textContent;\n",
       "        var level = parseInt(child.tagName.substring(1,2));\n",
       "\n",
       "        text_memo += \"--\" + level + \"?\" + lfirst + \"--\" + title + \"\\n\";\n",
       "\n",
       "        if ((level < lfirst) || (level > llast)) {\n",
       "            continue ;\n",
       "        }\n",
       "        if (title.endsWith('¶')) {\n",
       "            title = title.substring(0,title.length-1).replace(\"<\", \"&lt;\")\n",
       "         .replace(\">\", \"&gt;\").replace(\"&\", \"&amp;\");\n",
       "        }\n",
       "        if (title.length == 0) {\n",
       "            continue;\n",
       "        }\n",
       "\n",
       "        while (level < memo_level) {\n",
       "            text_menu += end_format + \"</ul>\\n\";\n",
       "            format_open -= 1;\n",
       "            memo_level -= 1;\n",
       "        }\n",
       "        if (level == lfirst) {\n",
       "            main_item += 1;\n",
       "        }\n",
       "        if (keep_item != -1 && main_item != keep_item + 1) {\n",
       "            // alert(main_item + \" - \" + level + \" - \" + keep_item);\n",
       "            continue;\n",
       "        }\n",
       "        while (level > memo_level) {\n",
       "            text_menu += \"<ul>\\n\";\n",
       "            memo_level += 1;\n",
       "        }\n",
       "        text_menu += repeat_indent_string(level-2);\n",
       "        text_menu += begin_format + sformat.replace(\"__HREF__\", href).replace(\"__TITLE__\", title);\n",
       "        format_open += 1;\n",
       "    }\n",
       "    while (1 < memo_level) {\n",
       "        text_menu += end_format + \"</ul>\\n\";\n",
       "        memo_level -= 1;\n",
       "        format_open -= 1;\n",
       "    }\n",
       "    text_menu += send;\n",
       "    //text_menu += \"\\n\" + text_memo;\n",
       "\n",
       "    while (format_open > 0) {\n",
       "        text_menu += end_format;\n",
       "        format_open -= 1;\n",
       "    }\n",
       "    return text_menu;\n",
       "};\n",
       "var update_menu = function() {\n",
       "    var sbegin = \"\";\n",
       "    var sformat = '<a href=\"#__HREF__\">__TITLE__</a>';\n",
       "    var send = \"\";\n",
       "    var begin_format = '<li>';\n",
       "    var end_format = '</li>';\n",
       "    var keep_item = -1;\n",
       "    var text_menu = update_menu_string(sbegin, 2, 4, sformat, send, keep_item,\n",
       "       begin_format, end_format);\n",
       "    var menu = document.getElementById(\"my_id_menu_nb\");\n",
       "    menu.innerHTML=text_menu;\n",
       "};\n",
       "window.setTimeout(update_menu,2000);\n",
       "            </script>"
      ],
      "text/plain": [
       "<IPython.core.display.HTML object>"
      ]
     },
     "execution_count": 654,
     "metadata": {},
     "output_type": "execute_result"
    }
   ],
   "source": [
    "from jyquickhelper import add_notebook_menu\n",
    "add_notebook_menu()"
   ]
  },
  {
   "cell_type": "markdown",
   "metadata": {},
   "source": [
    "## Instructions\n",
    "Download the Sales Transactions Weekly Dataset. You will recover 800 time series of sales of different products with 52 timestamps (one for each week). Alternatively, you can also download any other dataset of your liking, with the same type, i.e. labelled time series, with a few hundreds or thousands of time series of moderate length.  \n",
    "  \n",
    "**Outcome:** A zip file containing your report in pdf (not a .doc) and code in whatever format (you can send a notebook)."
   ]
  },
  {
   "cell_type": "markdown",
   "metadata": {},
   "source": [
    "## 1. Data Preparation"
   ]
  },
  {
   "cell_type": "code",
   "execution_count": 1,
   "metadata": {},
   "outputs": [],
   "source": [
    "import numpy as np\n",
    "import pandas as pd\n",
    "%matplotlib inline\n",
    "import matplotlib.pyplot as plt\n",
    "import seaborn as sns\n",
    "import random\n",
    "from PIL import Image\n",
    "from IPython.display import HTML\n",
    "import itertools\n",
    "import time"
   ]
  },
  {
   "cell_type": "code",
   "execution_count": 2,
   "metadata": {
    "scrolled": true
   },
   "outputs": [
    {
     "data": {
      "text/html": [
       "<div>\n",
       "<style scoped>\n",
       "    .dataframe tbody tr th:only-of-type {\n",
       "        vertical-align: middle;\n",
       "    }\n",
       "\n",
       "    .dataframe tbody tr th {\n",
       "        vertical-align: top;\n",
       "    }\n",
       "\n",
       "    .dataframe thead th {\n",
       "        text-align: right;\n",
       "    }\n",
       "</style>\n",
       "<table border=\"1\" class=\"dataframe\">\n",
       "  <thead>\n",
       "    <tr style=\"text-align: right;\">\n",
       "      <th></th>\n",
       "      <th>Product_Code</th>\n",
       "      <th>W0</th>\n",
       "      <th>W1</th>\n",
       "      <th>W2</th>\n",
       "      <th>W3</th>\n",
       "      <th>W4</th>\n",
       "      <th>W5</th>\n",
       "      <th>W6</th>\n",
       "      <th>W7</th>\n",
       "      <th>W8</th>\n",
       "      <th>...</th>\n",
       "      <th>Normalized 42</th>\n",
       "      <th>Normalized 43</th>\n",
       "      <th>Normalized 44</th>\n",
       "      <th>Normalized 45</th>\n",
       "      <th>Normalized 46</th>\n",
       "      <th>Normalized 47</th>\n",
       "      <th>Normalized 48</th>\n",
       "      <th>Normalized 49</th>\n",
       "      <th>Normalized 50</th>\n",
       "      <th>Normalized 51</th>\n",
       "    </tr>\n",
       "  </thead>\n",
       "  <tbody>\n",
       "    <tr>\n",
       "      <th>0</th>\n",
       "      <td>P1</td>\n",
       "      <td>11</td>\n",
       "      <td>12</td>\n",
       "      <td>10</td>\n",
       "      <td>8</td>\n",
       "      <td>13</td>\n",
       "      <td>12</td>\n",
       "      <td>14</td>\n",
       "      <td>21</td>\n",
       "      <td>6</td>\n",
       "      <td>...</td>\n",
       "      <td>0.06</td>\n",
       "      <td>0.22</td>\n",
       "      <td>0.28</td>\n",
       "      <td>0.39</td>\n",
       "      <td>0.50</td>\n",
       "      <td>0.00</td>\n",
       "      <td>0.22</td>\n",
       "      <td>0.17</td>\n",
       "      <td>0.11</td>\n",
       "      <td>0.39</td>\n",
       "    </tr>\n",
       "    <tr>\n",
       "      <th>1</th>\n",
       "      <td>P2</td>\n",
       "      <td>7</td>\n",
       "      <td>6</td>\n",
       "      <td>3</td>\n",
       "      <td>2</td>\n",
       "      <td>7</td>\n",
       "      <td>1</td>\n",
       "      <td>6</td>\n",
       "      <td>3</td>\n",
       "      <td>3</td>\n",
       "      <td>...</td>\n",
       "      <td>0.20</td>\n",
       "      <td>0.40</td>\n",
       "      <td>0.50</td>\n",
       "      <td>0.10</td>\n",
       "      <td>0.10</td>\n",
       "      <td>0.40</td>\n",
       "      <td>0.50</td>\n",
       "      <td>0.10</td>\n",
       "      <td>0.60</td>\n",
       "      <td>0.00</td>\n",
       "    </tr>\n",
       "    <tr>\n",
       "      <th>2</th>\n",
       "      <td>P3</td>\n",
       "      <td>7</td>\n",
       "      <td>11</td>\n",
       "      <td>8</td>\n",
       "      <td>9</td>\n",
       "      <td>10</td>\n",
       "      <td>8</td>\n",
       "      <td>7</td>\n",
       "      <td>13</td>\n",
       "      <td>12</td>\n",
       "      <td>...</td>\n",
       "      <td>0.27</td>\n",
       "      <td>1.00</td>\n",
       "      <td>0.18</td>\n",
       "      <td>0.18</td>\n",
       "      <td>0.36</td>\n",
       "      <td>0.45</td>\n",
       "      <td>1.00</td>\n",
       "      <td>0.45</td>\n",
       "      <td>0.45</td>\n",
       "      <td>0.36</td>\n",
       "    </tr>\n",
       "    <tr>\n",
       "      <th>3</th>\n",
       "      <td>P4</td>\n",
       "      <td>12</td>\n",
       "      <td>8</td>\n",
       "      <td>13</td>\n",
       "      <td>5</td>\n",
       "      <td>9</td>\n",
       "      <td>6</td>\n",
       "      <td>9</td>\n",
       "      <td>13</td>\n",
       "      <td>13</td>\n",
       "      <td>...</td>\n",
       "      <td>0.41</td>\n",
       "      <td>0.47</td>\n",
       "      <td>0.06</td>\n",
       "      <td>0.12</td>\n",
       "      <td>0.24</td>\n",
       "      <td>0.35</td>\n",
       "      <td>0.71</td>\n",
       "      <td>0.35</td>\n",
       "      <td>0.29</td>\n",
       "      <td>0.35</td>\n",
       "    </tr>\n",
       "    <tr>\n",
       "      <th>4</th>\n",
       "      <td>P5</td>\n",
       "      <td>8</td>\n",
       "      <td>5</td>\n",
       "      <td>13</td>\n",
       "      <td>11</td>\n",
       "      <td>6</td>\n",
       "      <td>7</td>\n",
       "      <td>9</td>\n",
       "      <td>14</td>\n",
       "      <td>9</td>\n",
       "      <td>...</td>\n",
       "      <td>0.27</td>\n",
       "      <td>0.53</td>\n",
       "      <td>0.27</td>\n",
       "      <td>0.60</td>\n",
       "      <td>0.20</td>\n",
       "      <td>0.20</td>\n",
       "      <td>0.13</td>\n",
       "      <td>0.53</td>\n",
       "      <td>0.33</td>\n",
       "      <td>0.40</td>\n",
       "    </tr>\n",
       "  </tbody>\n",
       "</table>\n",
       "<p>5 rows × 107 columns</p>\n",
       "</div>"
      ],
      "text/plain": [
       "  Product_Code  W0  W1  W2  W3  W4  W5  W6  W7  W8  ...  Normalized 42  \\\n",
       "0           P1  11  12  10   8  13  12  14  21   6  ...           0.06   \n",
       "1           P2   7   6   3   2   7   1   6   3   3  ...           0.20   \n",
       "2           P3   7  11   8   9  10   8   7  13  12  ...           0.27   \n",
       "3           P4  12   8  13   5   9   6   9  13  13  ...           0.41   \n",
       "4           P5   8   5  13  11   6   7   9  14   9  ...           0.27   \n",
       "\n",
       "   Normalized 43  Normalized 44  Normalized 45  Normalized 46  Normalized 47  \\\n",
       "0           0.22           0.28           0.39           0.50           0.00   \n",
       "1           0.40           0.50           0.10           0.10           0.40   \n",
       "2           1.00           0.18           0.18           0.36           0.45   \n",
       "3           0.47           0.06           0.12           0.24           0.35   \n",
       "4           0.53           0.27           0.60           0.20           0.20   \n",
       "\n",
       "   Normalized 48  Normalized 49  Normalized 50  Normalized 51  \n",
       "0           0.22           0.17           0.11           0.39  \n",
       "1           0.50           0.10           0.60           0.00  \n",
       "2           1.00           0.45           0.45           0.36  \n",
       "3           0.71           0.35           0.29           0.35  \n",
       "4           0.13           0.53           0.33           0.40  \n",
       "\n",
       "[5 rows x 107 columns]"
      ]
     },
     "execution_count": 2,
     "metadata": {},
     "output_type": "execute_result"
    }
   ],
   "source": [
    "df = pd.read_csv('./data/Sales_Transactions_Dataset_Weekly.csv')\n",
    "df.head()"
   ]
  },
  {
   "cell_type": "code",
   "execution_count": 3,
   "metadata": {},
   "outputs": [
    {
     "data": {
      "text/html": [
       "<div>\n",
       "<style scoped>\n",
       "    .dataframe tbody tr th:only-of-type {\n",
       "        vertical-align: middle;\n",
       "    }\n",
       "\n",
       "    .dataframe tbody tr th {\n",
       "        vertical-align: top;\n",
       "    }\n",
       "\n",
       "    .dataframe thead th {\n",
       "        text-align: right;\n",
       "    }\n",
       "</style>\n",
       "<table border=\"1\" class=\"dataframe\">\n",
       "  <thead>\n",
       "    <tr style=\"text-align: right;\">\n",
       "      <th></th>\n",
       "      <th>Normalized 0</th>\n",
       "      <th>Normalized 1</th>\n",
       "      <th>Normalized 2</th>\n",
       "      <th>Normalized 3</th>\n",
       "      <th>Normalized 4</th>\n",
       "      <th>Normalized 5</th>\n",
       "      <th>Normalized 6</th>\n",
       "      <th>Normalized 7</th>\n",
       "      <th>Normalized 8</th>\n",
       "      <th>Normalized 9</th>\n",
       "      <th>...</th>\n",
       "      <th>Normalized 42</th>\n",
       "      <th>Normalized 43</th>\n",
       "      <th>Normalized 44</th>\n",
       "      <th>Normalized 45</th>\n",
       "      <th>Normalized 46</th>\n",
       "      <th>Normalized 47</th>\n",
       "      <th>Normalized 48</th>\n",
       "      <th>Normalized 49</th>\n",
       "      <th>Normalized 50</th>\n",
       "      <th>Normalized 51</th>\n",
       "    </tr>\n",
       "  </thead>\n",
       "  <tbody>\n",
       "    <tr>\n",
       "      <th>0</th>\n",
       "      <td>0.44</td>\n",
       "      <td>0.50</td>\n",
       "      <td>0.39</td>\n",
       "      <td>0.28</td>\n",
       "      <td>0.56</td>\n",
       "      <td>0.50</td>\n",
       "      <td>0.61</td>\n",
       "      <td>1.00</td>\n",
       "      <td>0.17</td>\n",
       "      <td>0.61</td>\n",
       "      <td>...</td>\n",
       "      <td>0.06</td>\n",
       "      <td>0.22</td>\n",
       "      <td>0.28</td>\n",
       "      <td>0.39</td>\n",
       "      <td>0.50</td>\n",
       "      <td>0.00</td>\n",
       "      <td>0.22</td>\n",
       "      <td>0.17</td>\n",
       "      <td>0.11</td>\n",
       "      <td>0.39</td>\n",
       "    </tr>\n",
       "    <tr>\n",
       "      <th>1</th>\n",
       "      <td>0.70</td>\n",
       "      <td>0.60</td>\n",
       "      <td>0.30</td>\n",
       "      <td>0.20</td>\n",
       "      <td>0.70</td>\n",
       "      <td>0.10</td>\n",
       "      <td>0.60</td>\n",
       "      <td>0.30</td>\n",
       "      <td>0.30</td>\n",
       "      <td>0.30</td>\n",
       "      <td>...</td>\n",
       "      <td>0.20</td>\n",
       "      <td>0.40</td>\n",
       "      <td>0.50</td>\n",
       "      <td>0.10</td>\n",
       "      <td>0.10</td>\n",
       "      <td>0.40</td>\n",
       "      <td>0.50</td>\n",
       "      <td>0.10</td>\n",
       "      <td>0.60</td>\n",
       "      <td>0.00</td>\n",
       "    </tr>\n",
       "    <tr>\n",
       "      <th>2</th>\n",
       "      <td>0.36</td>\n",
       "      <td>0.73</td>\n",
       "      <td>0.45</td>\n",
       "      <td>0.55</td>\n",
       "      <td>0.64</td>\n",
       "      <td>0.45</td>\n",
       "      <td>0.36</td>\n",
       "      <td>0.91</td>\n",
       "      <td>0.82</td>\n",
       "      <td>0.27</td>\n",
       "      <td>...</td>\n",
       "      <td>0.27</td>\n",
       "      <td>1.00</td>\n",
       "      <td>0.18</td>\n",
       "      <td>0.18</td>\n",
       "      <td>0.36</td>\n",
       "      <td>0.45</td>\n",
       "      <td>1.00</td>\n",
       "      <td>0.45</td>\n",
       "      <td>0.45</td>\n",
       "      <td>0.36</td>\n",
       "    </tr>\n",
       "    <tr>\n",
       "      <th>3</th>\n",
       "      <td>0.59</td>\n",
       "      <td>0.35</td>\n",
       "      <td>0.65</td>\n",
       "      <td>0.18</td>\n",
       "      <td>0.41</td>\n",
       "      <td>0.24</td>\n",
       "      <td>0.41</td>\n",
       "      <td>0.65</td>\n",
       "      <td>0.65</td>\n",
       "      <td>0.53</td>\n",
       "      <td>...</td>\n",
       "      <td>0.41</td>\n",
       "      <td>0.47</td>\n",
       "      <td>0.06</td>\n",
       "      <td>0.12</td>\n",
       "      <td>0.24</td>\n",
       "      <td>0.35</td>\n",
       "      <td>0.71</td>\n",
       "      <td>0.35</td>\n",
       "      <td>0.29</td>\n",
       "      <td>0.35</td>\n",
       "    </tr>\n",
       "    <tr>\n",
       "      <th>4</th>\n",
       "      <td>0.33</td>\n",
       "      <td>0.13</td>\n",
       "      <td>0.67</td>\n",
       "      <td>0.53</td>\n",
       "      <td>0.20</td>\n",
       "      <td>0.27</td>\n",
       "      <td>0.40</td>\n",
       "      <td>0.73</td>\n",
       "      <td>0.40</td>\n",
       "      <td>0.40</td>\n",
       "      <td>...</td>\n",
       "      <td>0.27</td>\n",
       "      <td>0.53</td>\n",
       "      <td>0.27</td>\n",
       "      <td>0.60</td>\n",
       "      <td>0.20</td>\n",
       "      <td>0.20</td>\n",
       "      <td>0.13</td>\n",
       "      <td>0.53</td>\n",
       "      <td>0.33</td>\n",
       "      <td>0.40</td>\n",
       "    </tr>\n",
       "  </tbody>\n",
       "</table>\n",
       "<p>5 rows × 52 columns</p>\n",
       "</div>"
      ],
      "text/plain": [
       "   Normalized 0  Normalized 1  Normalized 2  Normalized 3  Normalized 4  \\\n",
       "0          0.44          0.50          0.39          0.28          0.56   \n",
       "1          0.70          0.60          0.30          0.20          0.70   \n",
       "2          0.36          0.73          0.45          0.55          0.64   \n",
       "3          0.59          0.35          0.65          0.18          0.41   \n",
       "4          0.33          0.13          0.67          0.53          0.20   \n",
       "\n",
       "   Normalized 5  Normalized 6  Normalized 7  Normalized 8  Normalized 9  ...  \\\n",
       "0          0.50          0.61          1.00          0.17          0.61  ...   \n",
       "1          0.10          0.60          0.30          0.30          0.30  ...   \n",
       "2          0.45          0.36          0.91          0.82          0.27  ...   \n",
       "3          0.24          0.41          0.65          0.65          0.53  ...   \n",
       "4          0.27          0.40          0.73          0.40          0.40  ...   \n",
       "\n",
       "   Normalized 42  Normalized 43  Normalized 44  Normalized 45  Normalized 46  \\\n",
       "0           0.06           0.22           0.28           0.39           0.50   \n",
       "1           0.20           0.40           0.50           0.10           0.10   \n",
       "2           0.27           1.00           0.18           0.18           0.36   \n",
       "3           0.41           0.47           0.06           0.12           0.24   \n",
       "4           0.27           0.53           0.27           0.60           0.20   \n",
       "\n",
       "   Normalized 47  Normalized 48  Normalized 49  Normalized 50  Normalized 51  \n",
       "0           0.00           0.22           0.17           0.11           0.39  \n",
       "1           0.40           0.50           0.10           0.60           0.00  \n",
       "2           0.45           1.00           0.45           0.45           0.36  \n",
       "3           0.35           0.71           0.35           0.29           0.35  \n",
       "4           0.20           0.13           0.53           0.33           0.40  \n",
       "\n",
       "[5 rows x 52 columns]"
      ]
     },
     "execution_count": 3,
     "metadata": {},
     "output_type": "execute_result"
    }
   ],
   "source": [
    "# Take out the normalized values from the dataframe\n",
    "idx = [i for i in range(df.shape[1]) if 'Normalized' in df.columns[i]]\n",
    "ndf = df.iloc[:, idx]\n",
    "ndf.head()"
   ]
  },
  {
   "cell_type": "code",
   "execution_count": 4,
   "metadata": {},
   "outputs": [
    {
     "name": "stdout",
     "output_type": "stream",
     "text": [
      "<class 'numpy.ndarray'>\n",
      "(811, 52)\n"
     ]
    }
   ],
   "source": [
    "# Transform the data from dataframe to numpy.ndarry\n",
    "data = ndf.values\n",
    "print(type(data))\n",
    "print(data.shape)"
   ]
  },
  {
   "cell_type": "markdown",
   "metadata": {},
   "source": [
    "## 2. Dynamic Time Warping\n",
    "**Objective: Implement the dynamic time warping distance in your programming language of choice.**"
   ]
  },
  {
   "cell_type": "code",
   "execution_count": 50,
   "metadata": {},
   "outputs": [
    {
     "data": {
      "image/png": "[encoded data removed]",
      "text/plain": [
       "<Figure size 720x216 with 1 Axes>"
      ]
     },
     "metadata": {
      "needs_background": "light"
     },
     "output_type": "display_data"
    }
   ],
   "source": [
    "# Plot two sample time series that are chosen randomly\n",
    "samples = random.sample(range(data.shape[0]), 2)\n",
    "ts1 = data[samples[0]]\n",
    "ts2 = data[samples[1]]\n",
    "plt.figure(figsize = (10, 3))\n",
    "plt.plot(ts1, label=\"Time Series 1 (No.%d)\"%samples[0])\n",
    "plt.plot(ts2, label=\"Time Series 2 (No.%d)\"%samples[1])\n",
    "plt.legend()\n",
    "plt.savefig('./data/sample_time_series.png')\n",
    "plt.show()"
   ]
  },
  {
   "cell_type": "code",
   "execution_count": 6,
   "metadata": {},
   "outputs": [],
   "source": [
    "def DTW(x, y):\n",
    "    '''\n",
    "    Returns the Path Cost matrix and the DTW distance\n",
    "    '''\n",
    "    nrow = len(x)  # 52\n",
    "    ncol = len(y)  # 52\n",
    "    \n",
    "    # Initialise the cost matrix\n",
    "    C = np.zeros([nrow,ncol])\n",
    "    C[0, :], C[:, 0] = np.infty, np.infty\n",
    "    C[0,0] = 0\n",
    "    \n",
    "    # Bellman Recursion\n",
    "    for i in range(nrow-1):\n",
    "        for j in range(ncol-1):\n",
    "            D = np.abs(x[i] - y[j])\n",
    "            C[i+1][j+1] = D + np.min([C[i+1][j], C[i][j], C[i][j+1]])\n",
    "    \n",
    "    return C"
   ]
  },
  {
   "cell_type": "code",
   "execution_count": 7,
   "metadata": {},
   "outputs": [],
   "source": [
    "def opt_path(dtw):\n",
    "    '''\n",
    "    Returns the optimal path\n",
    "    '''\n",
    "    rlen = dtw.shape[0]\n",
    "    clen = dtw.shape[1]\n",
    "    \n",
    "    r = rlen-1\n",
    "    c = clen-1\n",
    "\n",
    "    # Initialise the paths\n",
    "    r_path = [r]\n",
    "    c_path = [c]\n",
    "    cost_path = [dtw[r,c]]   \n",
    "\n",
    "    while (r!=0 or c!=0):\n",
    "        cost_temp = dtw[r, c]\n",
    "    \n",
    "        if dtw[r, c-1] <= cost_temp:\n",
    "            r_temp = r\n",
    "            c_temp = c-1\n",
    "            cost_temp = dtw[r, c-1]    \n",
    "        if dtw[r-1, c-1] <= cost_temp:\n",
    "            r_temp = r-1\n",
    "            c_temp = c-1\n",
    "            cost_temp = dtw[r-1, c-1] \n",
    "        if dtw[r-1, c] <= cost_temp:\n",
    "            r_temp = r-1\n",
    "            c_temp = c\n",
    "            cost_temp = dtw[r-1, c]\n",
    "        \n",
    "        r = r_temp\n",
    "        c = c_temp\n",
    "        r_path += [r]\n",
    "        c_path += [c]\n",
    "        cost_path += [cost_temp]\n",
    "        \n",
    "    r_path = list(reversed(r_path))[1:]\n",
    "    c_path = list(reversed(c_path))[1:]\n",
    "    cost_path = list(reversed(cost_path))[1:]\n",
    "\n",
    "    return(r_path, c_path, cost_path, rlen, clen)"
   ]
  },
  {
   "cell_type": "code",
   "execution_count": 54,
   "metadata": {},
   "outputs": [],
   "source": [
    "def opt_path_vis(r_path, c_path, cost_path, rlen, clen):\n",
    "    '''\n",
    "    Visualisation of the Optimal Path\n",
    "    '''\n",
    "    nrow = rlen\n",
    "    ncol = clen\n",
    "\n",
    "    plt.figure(figsize=(rlen/2,clen/2))\n",
    "    plt.scatter(np.array(r_path),np.array(c_path), s=250, label=\"Optimal Path Points (cost)\")\n",
    "    plt.xlim(0,clen-.5)\n",
    "    plt.ylim(rlen-.5,0)\n",
    "    for i in range(nrow):\n",
    "        plt.axhline(i+1, linestyle='-', color='lightgray')\n",
    "        plt.axvline(i+1, linestyle='-', color='lightgray')\n",
    "    for i in range(len(r_path)):\n",
    "        plt.annotate(s=\"(\"+str(round(cost_path[i], 2))+\")\", xy=(r_path[i]+0.1,c_path[i]-0.5))\n",
    "    plt.xticks(range(ncol))\n",
    "    plt.yticks(range(nrow))\n",
    "    plt.xlabel(\"Time Series 1 (No.%d)\"%samples[0], fontsize=30)\n",
    "    plt.ylabel(\"Time Series 2 (No.%d)\"%samples[1], fontsize=30)\n",
    "    plt.title(\"Optimal Path\", fontsize=35)\n",
    "    plt.legend()\n",
    "    plt.savefig('./data/optimal_path.png')"
   ]
  },
  {
   "cell_type": "code",
   "execution_count": 56,
   "metadata": {},
   "outputs": [],
   "source": [
    "def opt_path_ladder(ts1, ts2, r_path, c_path):\n",
    "    '''\n",
    "    Visualisation of the Optimal Path Ladder\n",
    "    '''\n",
    "    plt.figure(figsize = (10, 3))\n",
    "    plt.plot(ts1, label=\"Time Series 1 (No.%d)\"%samples[0])\n",
    "    plt.plot(ts2, label=\"Time Series 2 (No.%d)\"%samples[1] )\n",
    "\n",
    "    r_path = res[0]\n",
    "    c_path = res[1]\n",
    "\n",
    "    for i in range(len(r_path)):\n",
    "        a = [r_path[i]-1,c_path[i]-1]\n",
    "        b = [ts1[r_path[i]-1],ts2[c_path[i]-1]]\n",
    "        plt.plot(a, b, color=\"lightcoral\", linewidth=.5 )\n",
    "    \n",
    "    plt.tick_params(axis='x', which='both', bottom=False, top=False, labelbottom=False)\n",
    "    plt.tick_params(axis='y', which='both', right=False, left=False, labelleft=False)\n",
    "    plt.grid(False)\n",
    "    plt.title(\"Optimal Path Ladder\")\n",
    "    plt.legend()\n",
    "    plt.savefig('./data/optimal_path_ladder.png')"
   ]
  },
  {
   "cell_type": "code",
   "execution_count": 10,
   "metadata": {},
   "outputs": [],
   "source": [
    "def dtw_method(ts1, ts2):\n",
    "    '''\n",
    "    Set of the two functions\n",
    "    '''\n",
    "    dtw = DTW(ts1, ts2)\n",
    "    res = opt_path(dtw)\n",
    "    return res"
   ]
  },
  {
   "cell_type": "code",
   "execution_count": 11,
   "metadata": {},
   "outputs": [],
   "source": [
    "def dtw_method_vis(res):\n",
    "    '''\n",
    "    Set of the two visualisation functions\n",
    "    '''\n",
    "    opt_path_vis(res[0],res[1],res[2],res[3],res[4])\n",
    "    plt.close()\n",
    "    opt_path_ladder(ts1, ts2, res[0], res[1])\n",
    "    plt.close()"
   ]
  },
  {
   "cell_type": "code",
   "execution_count": 57,
   "metadata": {},
   "outputs": [
    {
     "data": {
      "text/html": [
       "     \n",
       "<table border=\"0\">\n",
       "<tr>\n",
       "<td><img src=\"./data/optimal_path.png\" width=600></td>\n",
       "<td><img src=\"./data/optimal_path_ladder.png\" width=400></td>\n",
       "</tr>\n",
       "</table>\n"
      ],
      "text/plain": [
       "<IPython.core.display.HTML object>"
      ]
     },
     "execution_count": 57,
     "metadata": {},
     "output_type": "execute_result"
    }
   ],
   "source": [
    "# Execute the method\n",
    "res = dtw_method(ts1, ts2)\n",
    "\n",
    "# Display the results\n",
    "dtw_method_vis(res)\n",
    "html = \"\"\"     \n",
    "<table border=\"0\">\n",
    "<tr>\n",
    "<td><img src=\"./data/optimal_path.png\" width=600></td>\n",
    "<td><img src=\"./data/optimal_path_ladder.png\" width=400></td>\n",
    "</tr>\n",
    "</table>\n",
    "\"\"\"\n",
    "HTML(html)"
   ]
  },
  {
   "cell_type": "code",
   "execution_count": 23,
   "metadata": {},
   "outputs": [],
   "source": [
    "def get_most_similar(i, d_matrix) :\n",
    "    j = np.argsort(d_matrix[i, :])[1]\n",
    "    return j, d_matrix[i,j]"
   ]
  },
  {
   "cell_type": "code",
   "execution_count": 29,
   "metadata": {
    "scrolled": false
   },
   "outputs": [
    {
     "name": "stdout",
     "output_type": "stream",
     "text": [
      "The closest time series of transaction 615 is transaction 62        and their distance is 5.660000\n"
     ]
    },
    {
     "data": {
      "image/png": "[encoded data removed]",
      "text/plain": [
       "<Figure size 720x216 with 1 Axes>"
      ]
     },
     "metadata": {
      "needs_background": "light"
     },
     "output_type": "display_data"
    }
   ],
   "source": [
    "# Plot the most similar sales transaction (time series) to a sales transaction of our random choice.\n",
    "idx_origin = random.sample(range(data.shape[0]), 1)[0]\n",
    "idx_similar, d = get_most_similar(idx_origin, D_recovered)\n",
    "print('The closest time series of transaction %d is transaction %d\\\n",
    "        and their distance is %f' %(idx_origin, idx_similar, d))\n",
    "plt.figure(figsize = (10, 3))\n",
    "plt.plot(data[idx_origin, :], label = 'Origin time series No.%d'%idx_origin)\n",
    "plt.plot(data[idx_similar, :], label ='The most similar time series (No.%d)'%idx_similar)\n",
    "plt.legend()\n",
    "plt.title('Origin time series (No.%d) and its most similar time series (No.%d)'%(idx_origin, idx_similar))\n",
    "plt.savefig('./data/two_similar_transactions.png')\n",
    "plt.show()"
   ]
  },
  {
   "cell_type": "markdown",
   "metadata": {},
   "source": [
    "## 3. Isomap\n",
    "**Objective: Compute the dynamic time warping distance matrix between all 800 instances and try to embed these points in 2 dimensions using Isomap (you should implement it, not use scikitlean or other public implementations). Display these results.**"
   ]
  },
  {
   "cell_type": "code",
   "execution_count": 652,
   "metadata": {},
   "outputs": [],
   "source": [
    "def dissimilarity(data):\n",
    "    '''\n",
    "        Return the dissimilarity between the points in matrix `data` (n_samples, n_features).\n",
    "        Here, the dissimilarity is the Dynamic Time Warping Distance.\n",
    "    '''\n",
    "    print(\"data.shape:\", data.shape)\n",
    "    for i in range(n):\n",
    "        for j in range(n):\n",
    "            if i <= j:\n",
    "                C = DTW(data[i], data[j])[data.shape[1]-1,data.shape[1]-1]\n",
    "                D[i,j] = C\n",
    "            else:\n",
    "                D[i,j] = D[j,i]\n",
    "    return D"
   ]
  },
  {
   "cell_type": "markdown",
   "metadata": {},
   "source": [
    "- Compute the dissimilarity between all the pairs ($811\\times811$). This takes about 4 hours."
   ]
  },
  {
   "cell_type": "code",
   "execution_count": null,
   "metadata": {
    "scrolled": false
   },
   "outputs": [],
   "source": [
    "D = dissimilarity(data)"
   ]
  },
  {
   "cell_type": "markdown",
   "metadata": {},
   "source": [
    "- Recover the dissimilarity matrix that we have saved."
   ]
  },
  {
   "cell_type": "code",
   "execution_count": 25,
   "metadata": {},
   "outputs": [
    {
     "data": {
      "text/plain": [
       "array([[ 0.  ,  7.24, 10.49, ...,  9.97, 10.2 ,  9.03],\n",
       "       [ 7.24,  0.  ,  9.34, ..., 10.3 , 10.6 , 10.56],\n",
       "       [10.49,  9.34,  0.  , ..., 13.48, 12.58, 15.85],\n",
       "       ...,\n",
       "       [ 9.97, 10.3 , 13.48, ...,  0.  ,  4.  ,  4.74],\n",
       "       [10.2 , 10.6 , 12.58, ...,  4.  ,  0.  ,  4.53],\n",
       "       [ 9.03, 10.56, 15.85, ...,  4.74,  4.53,  0.  ]])"
      ]
     },
     "execution_count": 25,
     "metadata": {},
     "output_type": "execute_result"
    }
   ],
   "source": [
    "D_recovered = np.load(\"./data/dissimilarity_matrix_20190519.npy\")\n",
    "D_recovered"
   ]
  },
  {
   "cell_type": "code",
   "execution_count": 602,
   "metadata": {},
   "outputs": [],
   "source": [
    "def gram(D):\n",
    "    '''\n",
    "        Return the Gram matrix associated with the dissimilarity matrix `D`.\n",
    "    '''\n",
    "    n = D.shape[0]\n",
    "    P = np.identity(n) - np.ones((n,n))/n\n",
    "    G = -1/2 * P.dot(D).dot(P)\n",
    "    return G"
   ]
  },
  {
   "cell_type": "code",
   "execution_count": 603,
   "metadata": {},
   "outputs": [],
   "source": [
    "def MDS(D, d=2):\n",
    "    '''\n",
    "        Compute the MDS of the dataset in matrix `data`(n_samples, n_features), with target dimension `d`.\n",
    "    '''\n",
    "    G = gram(D)\n",
    "    eigenvalues, eigenvectors = np.linalg.eigh(G)\n",
    "    \n",
    "    return eigenvectors[:,-d:].dot(np.diag(np.sqrt(eigenvalues[-d:])))"
   ]
  },
  {
   "cell_type": "code",
   "execution_count": 604,
   "metadata": {},
   "outputs": [],
   "source": [
    "data_reduced = MDS(D_recovered, d=2)"
   ]
  },
  {
   "cell_type": "code",
   "execution_count": 636,
   "metadata": {},
   "outputs": [
    {
     "data": {
      "image/png": "[encoded data removed]",
      "text/plain": [
       "<Figure size 432x288 with 1 Axes>"
      ]
     },
     "metadata": {
      "needs_background": "light"
     },
     "output_type": "display_data"
    }
   ],
   "source": [
    "plt.scatter(data_reduced[:,0], data_reduced[:,1], cmap='hot')#, c=(y/np.max(y)))\n",
    "plt.savefig('./data/isomap.png')\n",
    "plt.show()"
   ]
  },
  {
   "cell_type": "markdown",
   "metadata": {},
   "source": [
    "## 4. Multidimensional Scaling (MDS)\n",
    "**Objective: Embed now these points in a higher dimension using still MDS (e.g. 5). Check that the stress you have found is indeed smaller. Use a simple k-means algorithm on these representations to gather these 800 observations in k subgroups (set k as you wish).**"
   ]
  },
  {
   "cell_type": "code",
   "execution_count": 606,
   "metadata": {},
   "outputs": [],
   "source": [
    "data_reduced_5 = MDS(D_recovered, d=5)"
   ]
  },
  {
   "cell_type": "markdown",
   "metadata": {},
   "source": [
    "- Compute the Nearest Neighbors Graph"
   ]
  },
  {
   "cell_type": "markdown",
   "metadata": {},
   "source": [
    "For each point $i$ in the dataset, we will compute its $k$ nearest neighbors and draw an edge between $i$ and all its nearest neighbors."
   ]
  },
  {
   "cell_type": "code",
   "execution_count": 623,
   "metadata": {},
   "outputs": [],
   "source": [
    "def dissimilarity_euc(data):\n",
    "    '''\n",
    "        Return the dissimilarity between the points in matrix `data` (n_samples, n_features).\n",
    "        Here, the dissimilarity is the squared Euclidean norm.\n",
    "    '''\n",
    "    data_sq = np.sum(data**2, 1)\n",
    "    D = data_sq + data_sq[:, None] - 2 * data.dot(data.T)\n",
    "    return D"
   ]
  },
  {
   "cell_type": "code",
   "execution_count": 624,
   "metadata": {},
   "outputs": [],
   "source": [
    "def dissimilarity_sqrt(data):\n",
    "    '''\n",
    "        Return the Euclidean distance between the points in the dataset `data`.\n",
    "    '''\n",
    "    D = dissimilarity_euc(data)\n",
    "    D = np.maximum(D, 0)\n",
    "    return np.sqrt(D)"
   ]
  },
  {
   "cell_type": "code",
   "execution_count": 625,
   "metadata": {},
   "outputs": [],
   "source": [
    "def B(Z, D):\n",
    "    '''\n",
    "        Return the matrix B in SMACOF iteration.\n",
    "    '''\n",
    "    A = -np.divide(D, dissimilarity_sqrt(Z)+1e-20) # Add 1e-20 for stability issues\n",
    "    A = A - np.diag(np.sum(A,0))\n",
    "    return A"
   ]
  },
  {
   "cell_type": "code",
   "execution_count": 630,
   "metadata": {},
   "outputs": [],
   "source": [
    "def mMDS(data, d, N_iter=100, D_precomputed=None):\n",
    "    '''\n",
    "        Metric Multidimensional Scaling (mMDS)\n",
    "        Compute the mMDS of the dataset `data`, with target dimension `d` and `N_iter` iterations in SMACOF.\n",
    "    '''\n",
    "    n = data.shape[0]\n",
    "    \n",
    "    # Initialize at random\n",
    "    Z = np.random.normal(size=d*n).reshape([n,d])\n",
    "    \n",
    "    if D_precomputed is None:\n",
    "        D = dissimilarity_sqrt(X)\n",
    "    else:\n",
    "        D = D_precomputed\n",
    "    # Run the algorithm\n",
    "    stress = []\n",
    "    for i in range(N_iter):\n",
    "        Z = B(Z,D).dot(Z)/n\n",
    "        stress.append(np.sum(np.sum((D-dissimilarity_sqrt(Z))**2)))\n",
    "    \n",
    "    return Z, np.array(stress)/(n*n)"
   ]
  },
  {
   "cell_type": "markdown",
   "metadata": {},
   "source": [
    "- Each of $d=2$ and $d=5$ takes a few minutes."
   ]
  },
  {
   "cell_type": "code",
   "execution_count": 632,
   "metadata": {},
   "outputs": [
    {
     "name": "stdout",
     "output_type": "stream",
     "text": [
      "Stress value with d=2:  5.453757726177226\n"
     ]
    }
   ],
   "source": [
    "# k-Nearest-Neighbors\n",
    "k = 3\n",
    "\n",
    "Z2, stress2 = mMDS(data, d=2, N_iter=200, D_precomputed=D_recovered)\n",
    "print('Stress value with d=2: ', stress2[-1])"
   ]
  },
  {
   "cell_type": "code",
   "execution_count": 633,
   "metadata": {},
   "outputs": [
    {
     "name": "stdout",
     "output_type": "stream",
     "text": [
      "Stress value with d=5:  1.9640749640978061\n"
     ]
    }
   ],
   "source": [
    "Z5, stress5 = mMDS(data, d=5, N_iter=200, D_precomputed=D_recovered)\n",
    "print('Stress value with d=5: ', stress5[-1])"
   ]
  },
  {
   "cell_type": "code",
   "execution_count": 650,
   "metadata": {},
   "outputs": [
    {
     "data": {
      "image/png": "[encoded data removed]",
      "text/plain": [
       "<Figure size 432x288 with 1 Axes>"
      ]
     },
     "metadata": {
      "needs_background": "light"
     },
     "output_type": "display_data"
    }
   ],
   "source": [
    "plt.scatter(Z2[:,0], Z2[:,1], cmap='hot')\n",
    "plt.savefig('./data/MDS.png')\n",
    "plt.show()"
   ]
  },
  {
   "cell_type": "code",
   "execution_count": 646,
   "metadata": {},
   "outputs": [
    {
     "data": {
      "image/png": "[encoded data removed]",
      "text/plain": [
       "<Figure size 1152x288 with 1 Axes>"
      ]
     },
     "metadata": {
      "needs_background": "light"
     },
     "output_type": "display_data"
    }
   ],
   "source": [
    "plt.figure(figsize=(16,4))\n",
    "plt.title('Convergence of SMACOF algorithm (d=2)', fontsize=15)\n",
    "plt.plot(stress2, lw=2)\n",
    "plt.ylabel('Stress', fontsize=15)\n",
    "plt.xlabel('Number of iterations', fontsize=15)\n",
    "plt.xticks(fontsize=10)\n",
    "plt.yticks(fontsize=10)\n",
    "plt.savefig('./data/Stress_Evolution_d2.png')\n",
    "plt.show()"
   ]
  },
  {
   "cell_type": "code",
   "execution_count": 645,
   "metadata": {},
   "outputs": [
    {
     "data": {
      "image/png": "[encoded data removed]",
      "text/plain": [
       "<Figure size 1152x288 with 1 Axes>"
      ]
     },
     "metadata": {
      "needs_background": "light"
     },
     "output_type": "display_data"
    }
   ],
   "source": [
    "plt.figure(figsize=(16,4))\n",
    "plt.title('Convergence of SMACOF algorithm (d=5)', fontsize=15)\n",
    "plt.plot(stress5, lw=2)\n",
    "plt.ylabel('Stress', fontsize=15)\n",
    "plt.xlabel('Number of iterations', fontsize=15)\n",
    "plt.xticks(fontsize=10)\n",
    "plt.yticks(fontsize=10)\n",
    "plt.savefig('./data/Stress_Evolution_d5.png')\n",
    "plt.show()"
   ]
  },
  {
   "cell_type": "markdown",
   "metadata": {},
   "source": [
    "## 5. Time Series Averaging\n",
    "**Objective: In order to visualize representative examples for each class in these samples, we consider time series averaging. We will compute an average for each of the k clusters computed in the previous question. Code to compute such averages is available in R or Python. Plot these averages and compare them with the usual Euclidean averaging you would obtain by simply summing these time-series.**"
   ]
  },
  {
   "cell_type": "code",
   "execution_count": null,
   "metadata": {},
   "outputs": [],
   "source": [
    "# Time Series Averaging code by F. PetitJean\n",
    "from src.DBA import *"
   ]
  },
  {
   "cell_type": "code",
   "execution_count": null,
   "metadata": {},
   "outputs": [],
   "source": [
    "t = np.arange(0, 5, 0.01)"
   ]
  },
  {
   "cell_type": "code",
   "execution_count": null,
   "metadata": {},
   "outputs": [],
   "source": [
    "def f(t, a) :\n",
    "    return np.maximum(t-a, 0)*np.exp(-5*(t-a))"
   ]
  },
  {
   "cell_type": "code",
   "execution_count": null,
   "metadata": {},
   "outputs": [],
   "source": [
    "plt.figure(figsize=(15, 10))\n",
    "mean = np.zeros(t.shape[0])\n",
    "n = 15\n",
    "series = list()\n",
    "for i in range(n) :\n",
    "    seriei = f(t, 0.5*np.random.rand())\n",
    "    mean += seriei\n",
    "    series.append(seriei)\n",
    "    plt.plot(t, seriei)\n",
    "average = performDBA(series, n_iterations=20)\n",
    "plt.title('Comparison of Arithmetic Averaging Vs DBA Averaging')\n",
    "plt.plot(t, average, linewidth = 7, color = 'blue', label = 'DBA Averaging')\n",
    "plt.plot(t, mean/n, linewidth = 7, color = 'black', label = 'Arithmetic Averaging')\n",
    "plt.legend()\n",
    "plt.show()"
   ]
  }
 ],
 "metadata": {
  "kernelspec": {
   "display_name": "Python 3",
   "language": "python",
   "name": "python3"
  },
  "language_info": {
   "codemirror_mode": {
    "name": "ipython",
    "version": 3
   },
   "file_extension": ".py",
   "mimetype": "text/x-python",
   "name": "python",
   "nbconvert_exporter": "python",
   "pygments_lexer": "ipython3",
   "version": "3.6.6"
  }
 },
 "nbformat": 4,
 "nbformat_minor": 2
}
